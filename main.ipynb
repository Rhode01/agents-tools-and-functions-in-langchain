{
 "cells": [
  {
   "cell_type": "code",
   "execution_count": null,
   "metadata": {},
   "outputs": [],
   "source": [
    "import json\n",
    "from langchain.chat_models import ChatOpenAI\n",
    "\n",
    "client = ChatOpenAI(temperature =0)"
   ]
  },
  {
   "cell_type": "code",
   "execution_count": null,
   "metadata": {},
   "outputs": [],
   "source": [
    "def get_current_weather(location, unit=\"\"):\n",
    "    \"\"\"Get the current weather in a given Location\"\"\"\n",
    "    weather_info = {\n",
    "        \"location\":location,\n",
    "        \"temperature\":\"72\",\n",
    "        \"unit\":unit,\n",
    "        \"forecast\" : [\"sunny\", \"windy\"]\n",
    "    }\n",
    "    return json.dumps(weather_info)\n"
   ]
  },
  {
   "cell_type": "code",
   "execution_count": null,
   "metadata": {},
   "outputs": [],
   "source": [
    "functions=[\n",
    "    {\n",
    "        \"name\":\"Grt_current_weather\",\n",
    "        \"description\":\"Get the current weather in a given location\"\n",
    "\n",
    "    }\n",
    "]"
   ]
  },
  {
   "cell_type": "code",
   "execution_count": null,
   "metadata": {},
   "outputs": [],
   "source": [
    "desc"
   ]
  }
 ],
 "metadata": {
  "kernelspec": {
   "display_name": ".venv",
   "language": "python",
   "name": "python3"
  },
  "language_info": {
   "codemirror_mode": {
    "name": "ipython",
    "version": 3
   },
   "file_extension": ".py",
   "mimetype": "text/x-python",
   "name": "python",
   "nbconvert_exporter": "python",
   "pygments_lexer": "ipython3",
   "version": "3.11.0"
  }
 },
 "nbformat": 4,
 "nbformat_minor": 2
}
